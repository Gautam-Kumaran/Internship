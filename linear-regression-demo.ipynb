{
 "cells": [
  {
   "attachments": {},
   "cell_type": "markdown",
   "metadata": {},
   "source": [
    "# Simple Linear Regression\n",
    "\n",
    "The goal of this project was to build a linear regression model from the ground up using numpy."
   ]
  },
  {
   "cell_type": "code",
   "execution_count": 2,
   "metadata": {
    "collapsed": true
   },
   "outputs": [],
   "source": [
    "%matplotlib inline\n",
    "\n",
    "#imports\n",
    "from numpy import *\n",
    "import matplotlib.pyplot as plt"
   ]
  },
  {
   "attachments": {},
   "cell_type": "markdown",
   "metadata": {
    "collapsed": true
   },
   "source": [
    "#### Import the data\n",
    "Here, we're using a dataset with two columns containing the amount of hours studied and the test scores students achieved, respectively."
   ]
  },
  {
   "cell_type": "code",
   "execution_count": 2,
   "metadata": {
    "collapsed": false
   },
   "outputs": [
    {
     "ename": "NameError",
     "evalue": "name 'genfromtxt' is not defined",
     "output_type": "error",
     "traceback": [
      "\u001b[1;31m---------------------------------------------------------------------------\u001b[0m",
      "\u001b[1;31mNameError\u001b[0m                                 Traceback (most recent call last)",
      "Cell \u001b[1;32mIn[2], line 1\u001b[0m\n\u001b[1;32m----> 1\u001b[0m points \u001b[39m=\u001b[39m genfromtxt(\u001b[39m'\u001b[39m\u001b[39mdata.csv\u001b[39m\u001b[39m'\u001b[39m, delimiter\u001b[39m=\u001b[39m\u001b[39m'\u001b[39m\u001b[39m,\u001b[39m\u001b[39m'\u001b[39m)\n\u001b[0;32m      3\u001b[0m \u001b[39m#Extract columns\u001b[39;00m\n\u001b[0;32m      4\u001b[0m x \u001b[39m=\u001b[39m array(points[:,\u001b[39m0\u001b[39m])\n",
      "\u001b[1;31mNameError\u001b[0m: name 'genfromtxt' is not defined"
     ]
    }
   ],
   "source": [
    "points = genfromtxt('data.csv', delimiter=',')\n",
    "\n",
    "#Extract columns\n",
    "x = array(points[:,0])\n",
    "y = array(points[:,1])\n",
    "\n",
    "#Plot the dataset\n",
    "plt.scatter(x,y)\n",
    "plt.xlabel('Hours of study')\n",
    "plt.ylabel('Test scores')\n",
    "plt.title('Dataset')\n",
    "plt.show()"
   ]
  },
  {
   "attachments": {},
   "cell_type": "markdown",
   "metadata": {},
   "source": [
    "#### Defining the hyperparamters"
   ]
  },
  {
   "cell_type": "code",
   "execution_count": 4,
   "metadata": {
    "collapsed": true
   },
   "outputs": [],
   "source": [
    "#hyperparamters\n",
    "learning_rate = 0.0001\n",
    "initial_b = 0\n",
    "initial_m = 0\n",
    "num_iterations = 10"
   ]
  },
  {
   "attachments": {},
   "cell_type": "markdown",
   "metadata": {},
   "source": [
    "#### Define cost function"
   ]
  },
  {
   "cell_type": "code",
   "execution_count": 5,
   "metadata": {
    "collapsed": true
   },
   "outputs": [],
   "source": [
    "def compute_cost(b, m, points):\n",
    "    total_cost = 0\n",
    "    N = float(len(points))\n",
    "    \n",
    "    #Compute sum of squared errors\n",
    "    for i in range(0, len(points)):\n",
    "        x = points[i, 0]\n",
    "        y = points[i, 1]\n",
    "        total_cost += (y - (m * x + b)) ** 2\n",
    "        \n",
    "    #Return average of squared error\n",
    "    return total_cost/N"
   ]
  },
  {
   "attachments": {},
   "cell_type": "markdown",
   "metadata": {},
   "source": [
    "#### Define Gradient Descent functions"
   ]
  },
  {
   "cell_type": "code",
   "execution_count": 6,
   "metadata": {
    "collapsed": false
   },
   "outputs": [],
   "source": [
    "def gradient_descent_runner(points, starting_b, starting_m, learning_rate, num_iterations):\n",
    "    b = starting_b\n",
    "    m = starting_m\n",
    "    cost_graph = []\n",
    "\n",
    "    #For every iteration, optimize b, m and compute its cost\n",
    "    for i in range(num_iterations):\n",
    "        cost_graph.append(compute_cost(b, m, points))\n",
    "        b, m = step_gradient(b, m, array(points), learning_rate)\n",
    "\n",
    "    return [b, m, cost_graph]\n",
    "\n",
    "def step_gradient(b_current, m_current, points, learning_rate):\n",
    "    m_gradient = 0\n",
    "    b_gradient = 0\n",
    "    N = float(len(points))\n",
    "\n",
    "    #Calculate Gradient\n",
    "    for i in range(0, len(points)):\n",
    "        x = points[i, 0]\n",
    "        y = points[i, 1]\n",
    "        m_gradient += - (2/N) * x * (y - (m_current * x + b_current))\n",
    "        b_gradient += - (2/N) * (y - (m_current * x + b_current))\n",
    "    \n",
    "    #Update current m and b\n",
    "    m_updated = m_current - learning_rate * m_gradient\n",
    "    b_updated = b_current - learning_rate * b_gradient\n",
    "\n",
    "    #Return updated parameters\n",
    "    return b_updated, m_updated"
   ]
  },
  {
   "attachments": {},
   "cell_type": "markdown",
   "metadata": {},
   "source": [
    "#### Run gradient_descent_runner() to get optimized parameters b and m"
   ]
  },
  {
   "cell_type": "code",
   "execution_count": 7,
   "metadata": {
    "collapsed": false
   },
   "outputs": [
    {
     "name": "stdout",
     "output_type": "stream",
     "text": [
      "Optimized b: 0.0296393478747\n",
      "Optimized m: 1.47741737555\n",
      "Minimized cost: 112.655851815\n"
     ]
    }
   ],
   "source": [
    "b, m, cost_graph = gradient_descent_runner(points, initial_b, initial_m, learning_rate, num_iterations)\n",
    "\n",
    "#Print optimized parameters\n",
    "print ('Optimized b:', b)\n",
    "print ('Optimized m:', m)\n",
    "\n",
    "#Print error with optimized parameters\n",
    "print ('Minimized cost:', compute_cost(b, m, points))"
   ]
  },
  {
   "attachments": {},
   "cell_type": "markdown",
   "metadata": {},
   "source": [
    "#### Plotting the cost per iterations"
   ]
  },
  {
   "cell_type": "code",
   "execution_count": 8,
   "metadata": {
    "collapsed": false,
    "scrolled": true
   },
   "outputs": [
    {
     "data": {
      "image/png": "[encoded data removed]",
      "text/plain": [
       "<matplotlib.figure.Figure at 0x10fe24198>"
      ]
     },
     "metadata": {},
     "output_type": "display_data"
    }
   ],
   "source": [
    "plt.plot(cost_graph)\n",
    "plt.xlabel('No. of iterations')\n",
    "plt.ylabel('Cost')\n",
    "plt.title('Cost per iteration')\n",
    "plt.show()"
   ]
  },
  {
   "attachments": {},
   "cell_type": "markdown",
   "metadata": {},
   "source": [
    "Gradient descent converges to local minimum after 5 iterations"
   ]
  },
  {
   "attachments": {},
   "cell_type": "markdown",
   "metadata": {},
   "source": [
    "#### Plot line of best fit"
   ]
  },
  {
   "cell_type": "code",
   "execution_count": 9,
   "metadata": {
    "collapsed": false
   },
   "outputs": [
    {
     "data": {
      "image/png": "[encoded data removed]",
      "text/plain": [
       "<matplotlib.figure.Figure at 0x11946af98>"
      ]
     },
     "metadata": {},
     "output_type": "display_data"
    }
   ],
   "source": [
    "#Plot dataset\n",
    "plt.scatter(x, y)\n",
    "#Predict y values\n",
    "pred = m * x + b\n",
    "#Plot predictions as line of best fit\n",
    "plt.plot(x, pred, c='r')\n",
    "plt.xlabel('Hours of study')\n",
    "plt.ylabel('Test scores')\n",
    "plt.title('Line of best fit')\n",
    "plt.show()"
   ]
  }
 ],
 "metadata": {
  "kernelspec": {
   "display_name": "Python 3",
   "language": "python",
   "name": "python3"
  },
  "language_info": {
   "codemirror_mode": {
    "name": "ipython",
    "version": 3
   },
   "file_extension": ".py",
   "mimetype": "text/x-python",
   "name": "python",
   "nbconvert_exporter": "python",
   "pygments_lexer": "ipython3",
   "version": "3.10.11"
  }
 },
 "nbformat": 4,
 "nbformat_minor": 2
}
